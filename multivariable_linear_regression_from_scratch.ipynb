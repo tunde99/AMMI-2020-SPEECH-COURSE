{
  "nbformat": 4,
  "nbformat_minor": 0,
  "metadata": {
    "colab": {
      "name": "multivariable_linear_regression_from_scratch.ipynb",
      "provenance": [],
      "collapsed_sections": [],
      "authorship_tag": "ABX9TyO0265EV79aQdIfXrbGwFBF",
      "include_colab_link": true
    },
    "kernelspec": {
      "name": "python3",
      "display_name": "Python 3"
    },
    "language_info": {
      "name": "python"
    },
    "accelerator": "GPU"
  },
  "cells": [
    {
      "cell_type": "markdown",
      "metadata": {
        "id": "view-in-github",
        "colab_type": "text"
      },
      "source": [
        "<a href=\"https://colab.research.google.com/github/tunde99/AMMI-2020-SPEECH-COURSE/blob/master/multivariable_linear_regression_from_scratch.ipynb\" target=\"_parent\"><img src=\"https://colab.research.google.com/assets/colab-badge.svg\" alt=\"Open In Colab\"/></a>"
      ]
    },
    {
      "cell_type": "markdown",
      "metadata": {
        "id": "LlkR3AQUoHuf"
      },
      "source": [
        "# Tutorials on https://www.youtube.com/watch?v=F2h1Ex7evVA&list=PL3Fc8qNch2_TA33HJRrKbtBrjMN-u5n7_&index=5"
      ]
    },
    {
      "cell_type": "code",
      "metadata": {
        "id": "Fr4-uxCempiX"
      },
      "source": [
        "import numpy as np\n",
        "import matplotlib.pyplot as plt\n",
        "import seaborn as sns"
      ],
      "execution_count": 3,
      "outputs": []
    },
    {
      "cell_type": "code",
      "metadata": {
        "id": "moeUwdAcm0aj"
      },
      "source": [
        "#1: Initialise parameters w, b\n",
        "def initialise_parameters(len_w):\n",
        "    w = np.random.randn(1,len_w)\n",
        "    b = 0\n",
        "    return w,b"
      ],
      "execution_count": 4,
      "outputs": []
    },
    {
      "cell_type": "code",
      "metadata": {
        "id": "5TfxyyXCn7Oz"
      },
      "source": [
        "#2: compute forward propagation \n",
        "def forward_prop(X,w,b):  # w --> (1,n)   X --> (n,m)     z --> (1,m)\n",
        "    z = np.dot(w, X) + b\n",
        "    return z"
      ],
      "execution_count": 6,
      "outputs": []
    },
    {
      "cell_type": "code",
      "metadata": {
        "id": "7e4ULTgQpDZK"
      },
      "source": [
        "#3: copmute the cost\n",
        "def cost_function(z, y):\n",
        "    m = y.shape[1]\n",
        "    J = (1/2*m) * np.sum(np.pow((z-y), 2))\n",
        "    return J"
      ],
      "execution_count": 14,
      "outputs": []
    },
    {
      "cell_type": "code",
      "metadata": {
        "id": "4t5HbHB5qe-W"
      },
      "source": [
        "#4: compute back propagation\n",
        "def back_prop(X,y,z,b):\n",
        "    m = y.shape[1]\n",
        "    dz = 1/m * (z-y)\n",
        "    dw = np.dot(dz,X.T)\n",
        "    db = np.sum(dz)\n",
        "    return dw,db"
      ],
      "execution_count": 15,
      "outputs": []
    },
    {
      "cell_type": "code",
      "metadata": {
        "id": "OG19mW9iscvv"
      },
      "source": [
        "#5: copmute gradient descent update rule\n",
        "def gradient_descent_update(w,b,dw,db,learning_rate):\n",
        "    w = w - learning_rate * dw\n",
        "    b = b - learning_rate * db\n",
        "    return w,b"
      ],
      "execution_count": 17,
      "outputs": []
    },
    {
      "cell_type": "code",
      "metadata": {
        "id": "Kb0wsXnkteVu"
      },
      "source": [
        "# create model\n",
        "def linear_regression_model(X_train, y_train, X_val, y_val, epochs):\n",
        "    len_w = X_train.shape[0]\n",
        "    w,b = initialise_parameters(len_w) #1\n",
        "    \n",
        "    train_costs = []\n",
        "    m_train = y_train.shape[1]\n",
        "    m_val = y_val.shape[1]\n",
        "    for i in range(1,epochs):\n",
        "        z_train = forward_prop(X_train,w,b) #2\n",
        "        train_cost = cost_function(z_train, y_train) #3\n",
        "        dw,db = back_prop(X_train,y_train,z_train) #4\n",
        "        w,b = gradient_descent_update(w,b,dw,db,learning_rate) #5\n",
        "\n",
        "        # store training costs in a list\n",
        "        if i%10==0:\n",
        "            train_costs.append(train_cost)\n",
        "\n",
        "        # compute MAE\n",
        "        train_MAE = 1/m_train * np.abs(z_train - y_train)\n",
        "\n",
        "        # compute validation cost and MAE\n",
        "        z_val = forward_prop(X_val,w,b)\n",
        "        val_cost = cost_function(z_val,y_val)\n",
        "        val_MAE = 1/m_val * np.abs(z_val - y_val)\n",
        "\n",
        "        # print train_cost, val_cost, train_MAE, val_MAE\n",
        "        print('Epoch ' + str(i) + '/ ' + str(epochs) + ': ' )\n",
        "        print('Training costs ' + str(train_cost) + '| ' + 'Validation costs ' +  str(val_cost))\n",
        "        print('Training MAE ' + str(train_MAE) + '| ' + 'Validation MAE ' +  str(val_MAE))\n",
        "\n",
        "        # visualisation\n",
        "        plt.plot(train_costs)\n",
        "        plt.xlabel = ('Iterations(per tens)')\n",
        "        plt.ylabel = ('Training costs')\n",
        "        plt.title('Learning rate')\n",
        "        plt.show()\n",
        "\n",
        "\n"
      ],
      "execution_count": 20,
      "outputs": []
    },
    {
      "cell_type": "code",
      "metadata": {
        "id": "XD2Jz9Xs4rcF"
      },
      "source": [
        ""
      ],
      "execution_count": null,
      "outputs": []
    }
  ]
}